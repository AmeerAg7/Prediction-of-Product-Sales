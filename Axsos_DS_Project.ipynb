{
  "nbformat": 4,
  "nbformat_minor": 0,
  "metadata": {
    "colab": {
      "provenance": []
    },
    "kernelspec": {
      "name": "python3",
      "display_name": "Python 3"
    },
    "language_info": {
      "name": "python"
    }
  },
  "cells": [
    {
      "cell_type": "markdown",
      "source": [
        "# Prediction of Product Sales\n"
      ],
      "metadata": {
        "id": "YrvZAOgDMZMY"
      }
    },
    {
      "cell_type": "markdown",
      "source": [
        "- Ameer AbuGharbiah"
      ],
      "metadata": {
        "id": "2lYWbVzIMbWw"
      }
    },
    {
      "cell_type": "markdown",
      "source": [
        "## Project Overview"
      ],
      "metadata": {
        "id": "uNhckxw3Mgat"
      }
    },
    {
      "cell_type": "markdown",
      "source": [
        "## Load and Inspect Data\n"
      ],
      "metadata": {
        "id": "S-W3-x9ZMi2N"
      }
    },
    {
      "cell_type": "code",
      "execution_count": null,
      "metadata": {
        "id": "oOkKGiAUMJ4c"
      },
      "outputs": [],
      "source": []
    },
    {
      "cell_type": "markdown",
      "source": [
        "## Clean Data\n"
      ],
      "metadata": {
        "id": "0KElb0HxMm0-"
      }
    },
    {
      "cell_type": "code",
      "source": [],
      "metadata": {
        "id": "deNrQ9mxMq58"
      },
      "execution_count": null,
      "outputs": []
    },
    {
      "cell_type": "markdown",
      "source": [
        "## Exploratory Data Analysis\n"
      ],
      "metadata": {
        "id": "WLr_5tjAMwfN"
      }
    },
    {
      "cell_type": "code",
      "source": [],
      "metadata": {
        "id": "ABCZYcEmMxX0"
      },
      "execution_count": null,
      "outputs": []
    },
    {
      "cell_type": "markdown",
      "source": [
        "## Feature Inspection\n"
      ],
      "metadata": {
        "id": "wX-cGHsHMyyG"
      }
    },
    {
      "cell_type": "code",
      "source": [],
      "metadata": {
        "id": "ik1Ohs8OM0pM"
      },
      "execution_count": null,
      "outputs": []
    }
  ]
}